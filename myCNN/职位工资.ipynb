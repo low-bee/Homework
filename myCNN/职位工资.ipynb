{
 "cells": [
  {
   "cell_type": "code",
   "execution_count": 2,
   "metadata": {
    "collapsed": true
   },
   "outputs": [],
   "source": [
    "import jieba\n",
    "import pandas as pd\n",
    "import numpy as np\n",
    "import matplotlib.pylab as plt\n",
    "import matplotlib\n",
    "import pymysql\n",
    "from sklearn.feature_extraction.text import CountVectorizer\n",
    "import re\n",
    "\n",
    "from configs import USERNAME, PASSWORD, DBNAME\n",
    "\n",
    "matplotlib.rcParams['font.sans-serif'] = [\"simHei\"]\n",
    "matplotlib.rcParams['font.family'] = 'sans-serif'"
   ]
  },
  {
   "cell_type": "code",
   "execution_count": 3,
   "outputs": [],
   "source": [
    "sql = \"SELECT * FROM jobs\"\n",
    "connect = pymysql.connect(host=\"127.0.0.1\", user=USERNAME, password=PASSWORD, db=DBNAME)\n",
    "job_data = pd.read_sql(sql, connect)\n",
    "connect.close()\n",
    "\n",
    "data = job_data[[\"company_id\", \"position_name\", \"salary\"]]\n",
    "del job_data\n"
   ],
   "metadata": {
    "collapsed": false,
    "pycharm": {
     "name": "#%%\n"
    }
   }
  },
  {
   "cell_type": "code",
   "execution_count": 4,
   "outputs": [
    {
     "name": "stderr",
     "output_type": "stream",
     "text": [
      "Building prefix dict from the default dictionary ...\n",
      "Loading model from cache C:\\Users\\123\\AppData\\Local\\Temp\\jieba.cache\n",
      "Loading model cost 0.724 seconds.\n",
      "Prefix dict has been built successfully.\n"
     ]
    }
   ],
   "source": [
    "def deal_word(word):\n",
    "    if word is not None:\n",
    "        generator_ = jieba.cut(word)\n",
    "        return \" \".join(generator_)\n",
    "\n",
    "def del_stopwords(words, stopwords):\n",
    "    if words is not None:\n",
    "        output = ''\n",
    "        for word in words:\n",
    "            if word not in stopwords:\n",
    "                output += word\n",
    "        return output\n",
    "\n",
    "stopwords = ['0', '1', '2', '3', '4', '5', '6', '7', '8', '9', '’', '!', '\"', '#', '$', '¥', '%', '&', '\\\\', \"'\", '(',\n",
    "             ')', '（', '）', '*', '+', ',', '-', '.', '/', ':', '：', ';', '<', '=', '>', '?', '@', '，', '。', '?', '★',\n",
    "             '、', '…', '【', '】', '〖', '〗', '《', '》', '？', '“', '”', '‘', '’', '！', '[', '\\\\', '\\\\', ']', '^', '_',\n",
    "             '`', '{', '|', '}', '~', '', '', \"工程师\"]\n",
    "\n",
    "data[\"describe_cut\"] = data[\"position_name\"].apply(deal_word).apply(del_stopwords, stopwords=stopwords)"
   ],
   "metadata": {
    "collapsed": false,
    "pycharm": {
     "name": "#%%\n"
    }
   }
  },
  {
   "cell_type": "code",
   "execution_count": 5,
   "outputs": [
    {
     "data": {
      "text/plain": "        company_id position_name   salary   describe_cut\n0               53      中级/高级DBA  16k-30k     中级  高级 DBA\n1               53      PHP开发工程师  15k-25k     PHP 开发 工程师\n2               53         IT工程师    5k-8k         IT 工程师\n3               53        IT技术支持    5k-7k        IT 技术支持\n4               53   python开发工程师  25k-30k  python 开发 工程师\n...            ...           ...      ...            ...\n130439   122184318     软件高级开发工程师   8k-15k   软件 高级 开发 工程师\n130440   122184318     软件高级开发工程师   8k-15k   软件 高级 开发 工程师\n130441   122184318        UI高级设计  11k-12k       UI 高级 设计\n130442   122185826    vivo手机销售顾问    4k-8k  vivo 手机 销售 顾问\n130443   122186641            工人    4k-7k             工人\n\n[130444 rows x 4 columns]",
      "text/html": "<div>\n<style scoped>\n    .dataframe tbody tr th:only-of-type {\n        vertical-align: middle;\n    }\n\n    .dataframe tbody tr th {\n        vertical-align: top;\n    }\n\n    .dataframe thead th {\n        text-align: right;\n    }\n</style>\n<table border=\"1\" class=\"dataframe\">\n  <thead>\n    <tr style=\"text-align: right;\">\n      <th></th>\n      <th>company_id</th>\n      <th>position_name</th>\n      <th>salary</th>\n      <th>describe_cut</th>\n    </tr>\n  </thead>\n  <tbody>\n    <tr>\n      <th>0</th>\n      <td>53</td>\n      <td>中级/高级DBA</td>\n      <td>16k-30k</td>\n      <td>中级  高级 DBA</td>\n    </tr>\n    <tr>\n      <th>1</th>\n      <td>53</td>\n      <td>PHP开发工程师</td>\n      <td>15k-25k</td>\n      <td>PHP 开发 工程师</td>\n    </tr>\n    <tr>\n      <th>2</th>\n      <td>53</td>\n      <td>IT工程师</td>\n      <td>5k-8k</td>\n      <td>IT 工程师</td>\n    </tr>\n    <tr>\n      <th>3</th>\n      <td>53</td>\n      <td>IT技术支持</td>\n      <td>5k-7k</td>\n      <td>IT 技术支持</td>\n    </tr>\n    <tr>\n      <th>4</th>\n      <td>53</td>\n      <td>python开发工程师</td>\n      <td>25k-30k</td>\n      <td>python 开发 工程师</td>\n    </tr>\n    <tr>\n      <th>...</th>\n      <td>...</td>\n      <td>...</td>\n      <td>...</td>\n      <td>...</td>\n    </tr>\n    <tr>\n      <th>130439</th>\n      <td>122184318</td>\n      <td>软件高级开发工程师</td>\n      <td>8k-15k</td>\n      <td>软件 高级 开发 工程师</td>\n    </tr>\n    <tr>\n      <th>130440</th>\n      <td>122184318</td>\n      <td>软件高级开发工程师</td>\n      <td>8k-15k</td>\n      <td>软件 高级 开发 工程师</td>\n    </tr>\n    <tr>\n      <th>130441</th>\n      <td>122184318</td>\n      <td>UI高级设计</td>\n      <td>11k-12k</td>\n      <td>UI 高级 设计</td>\n    </tr>\n    <tr>\n      <th>130442</th>\n      <td>122185826</td>\n      <td>vivo手机销售顾问</td>\n      <td>4k-8k</td>\n      <td>vivo 手机 销售 顾问</td>\n    </tr>\n    <tr>\n      <th>130443</th>\n      <td>122186641</td>\n      <td>工人</td>\n      <td>4k-7k</td>\n      <td>工人</td>\n    </tr>\n  </tbody>\n</table>\n<p>130444 rows × 4 columns</p>\n</div>"
     },
     "execution_count": 5,
     "metadata": {},
     "output_type": "execute_result"
    }
   ],
   "source": [
    "data"
   ],
   "metadata": {
    "collapsed": false,
    "pycharm": {
     "name": "#%%\n"
    }
   }
  },
  {
   "cell_type": "code",
   "execution_count": 6,
   "outputs": [],
   "source": [
    "describe_s = data.groupby(\"company_id\")[\"describe_cut\"].apply(\" \".join)\n"
   ],
   "metadata": {
    "collapsed": false,
    "pycharm": {
     "name": "#%%\n"
    }
   }
  },
  {
   "cell_type": "code",
   "execution_count": 7,
   "outputs": [
    {
     "name": "stdout",
     "output_type": "stream",
     "text": [
      "  (0, 15)\t2\n",
      "  (0, 99)\t2\n",
      "  (0, 7)\t4\n",
      "  (0, 47)\t6\n",
      "  (0, 25)\t2\n",
      "  (0, 17)\t2\n",
      "  (0, 54)\t2\n",
      "  (0, 23)\t2\n",
      "  (0, 32)\t2\n",
      "  (0, 45)\t2\n",
      "  (0, 18)\t2\n",
      "  (1, 47)\t8\n",
      "  (1, 25)\t2\n",
      "  (1, 17)\t4\n",
      "  (1, 32)\t2\n",
      "  (1, 18)\t6\n",
      "  (1, 43)\t6\n",
      "  (1, 11)\t6\n",
      "  (1, 26)\t4\n",
      "  (1, 9)\t2\n",
      "  (1, 5)\t10\n",
      "  (1, 29)\t8\n",
      "  (1, 77)\t12\n",
      "  (1, 93)\t6\n",
      "  (1, 52)\t2\n",
      "  :\t:\n",
      "  (6915, 11)\t1\n",
      "  (6915, 78)\t1\n",
      "  (6915, 19)\t1\n",
      "  (6916, 11)\t2\n",
      "  (6916, 52)\t1\n",
      "  (6916, 95)\t2\n",
      "  (6916, 20)\t1\n",
      "  (6916, 19)\t1\n",
      "  (6918, 16)\t2\n",
      "  (6919, 28)\t1\n",
      "  (6920, 47)\t1\n",
      "  (6920, 1)\t1\n",
      "  (6921, 17)\t1\n",
      "  (6921, 43)\t1\n",
      "  (6921, 77)\t2\n",
      "  (6922, 98)\t1\n",
      "  (6922, 88)\t1\n",
      "  (6923, 47)\t2\n",
      "  (6923, 1)\t1\n",
      "  (6924, 99)\t3\n",
      "  (6924, 47)\t2\n",
      "  (6924, 8)\t1\n",
      "  (6924, 91)\t2\n",
      "  (6925, 98)\t1\n",
      "  (6925, 95)\t1\n",
      "\n",
      "vocabulary list:\n",
      "\n",
      " ['ai', 'android', 'bd', 'hrbp', 'ios', 'java', 'mj', 'php', 'ui', 'web', '上海', '专员', '专家', '业务', '中心', '中级', '主播', '主管', '产品', '人事', '代表', '优化', '内容', '分析师', '前端', '前端开发', '助理', '北京', '司机', '后台', '品牌', '售前', '商业', '商业化', '商务', '培训', '增长', '媒体', '安全', '实习生', '客户', '客户端', '客户经理', '客服', '市场', '平台', '广告', '开发', '总监', '房产', '技术', '拓展', '招聘', '教育', '数据', '文案', '方向', '服务', '服务端', '架构师', '活动', '测试', '海外', '深圳', '渠道', '游戏', '用户', '电商', '电话', '直播', '研发', '社群', '策划', '策略', '算法', '管理', '系统', '经理', '经纪人', '编辑', '网络', '美团', '腾讯', '营销', '行业', '视觉', '视频', '设计师', '课程', '负责人', '资深', '软件', '运维', '运营', '金融', '销售', '项目', '项目经理', '顾问', '高级']\n",
      "\n",
      "vocabulary dic:\n",
      "\n",
      " {'中级': 15, '高级': 99, 'php': 7, '开发': 47, '前端开发': 25, '主管': 17, '数据': 54, '分析师': 23, '商业': 32, '平台': 45, '产品': 18, '客服': 43, '专员': 11, '助理': 26, 'web': 9, 'java': 5, '后台': 29, '经理': 77, '运营': 93, '招聘': 52, '培训': 35, '顾问': 98, 'android': 1, '技术': 50, 'ios': 4, '测试': 61, '客户端': 41, '研发': 70, '方向': 56, '增长': 36, '直播': 69, '策略': 73, '商业化': 33, '行业': 84, '海外': 62, '广告': 46, '系统': 76, '渠道': 64, '资深': 90, '司机': 28, '客户': 40, '专家': 12, '内容': 22, '视频': 86, '架构师': 59, '教育': 53, '业务': 13, '视觉': 85, '品牌': 30, '游戏': 65, '优化': 21, 'ai': 0, '销售': 95, '编辑': 79, '服务端': 58, '管理': 75, '商务': 34, '拓展': 51, '电商': 67, '总监': 48, '负责人': 89, '用户': 66, '实习生': 39, '算法': 74, '服务': 57, '安全': 38, '市场': 44, '网络': 80, '项目经理': 97, '营销': 83, '策划': 72, 'ui': 8, '设计师': 87, 'hrbp': 3, '中心': 14, '运维': 92, '社群': 71, '媒体': 37, '活动': 60, '前端': 24, '主播': 16, 'bd': 2, '北京': 27, '金融': 94, '项目': 96, '课程': 88, '上海': 10, '深圳': 63, '电话': 68, '客户经理': 42, '软件': 91, '房产': 49, '代表': 20, '文案': 55, '售前': 31, '经纪人': 78, 'mj': 6, '腾讯': 82, '人事': 19, '美团': 81}\n"
     ]
    }
   ],
   "source": [
    "count_vec = CountVectorizer(min_df=5, max_df=5000, max_features=100,stop_words=stopwords)\n",
    "sparse_result_count = count_vec.fit_transform(describe_s)\n",
    "# 输出稀疏矩阵\n",
    "print(sparse_result_count)\n",
    "# 输出关键词\n",
    "print('\\nvocabulary list:\\n\\n',count_vec.get_feature_names())\n",
    "# 输出关键词编号\n",
    "print('\\nvocabulary dic:\\n\\n',count_vec.vocabulary_)"
   ],
   "metadata": {
    "collapsed": false,
    "pycharm": {
     "name": "#%%\n"
    }
   }
  },
  {
   "cell_type": "code",
   "execution_count": 8,
   "outputs": [
    {
     "data": {
      "text/plain": "array([[  0,   0,   0, ...,   0,   0,   2],\n       [  0,   0,   0, ...,   0,   0,   0],\n       [ 94, 200,  12, ...,  28, 244, 982],\n       ...,\n       [  0,   0,   0, ...,   0,   0,   3],\n       [  0,   0,   0, ...,   0,   1,   0],\n       [  0,   0,   0, ...,   0,   0,   0]], dtype=int64)"
     },
     "execution_count": 8,
     "metadata": {},
     "output_type": "execute_result"
    }
   ],
   "source": [
    "sparse_result_count.toarray()"
   ],
   "metadata": {
    "collapsed": false,
    "pycharm": {
     "name": "#%%\n"
    }
   }
  },
  {
   "cell_type": "code",
   "execution_count": 9,
   "outputs": [
    {
     "name": "stdout",
     "output_type": "stream",
     "text": [
      "(6927, 100)\n"
     ]
    }
   ],
   "source": [
    "print(sparse_result_count.shape)\n"
   ],
   "metadata": {
    "collapsed": false,
    "pycharm": {
     "name": "#%%\n"
    }
   }
  },
  {
   "cell_type": "code",
   "execution_count": 10,
   "outputs": [
    {
     "name": "stdout",
     "output_type": "stream",
     "text": [
      "ok + 1, current is 10\n",
      "ok + 1, current is 20\n",
      "ok + 1, current is 30\n",
      "ok + 1, current is 40\n",
      "ok + 1, current is 50\n",
      "ok + 1, current is 60\n",
      "ok + 1, current is 70\n",
      "ok + 1, current is 80\n",
      "ok + 1, current is 90\n",
      "ok + 1, current is 100\n"
     ]
    }
   ],
   "source": [
    "dict_word = dict()\n",
    "n = 0\n",
    "for word in count_vec.get_feature_names():\n",
    "\n",
    "    dict_word[word] = dict_word.get(word, [])\n",
    "    for i in range(len(data[\"describe_cut\"])):\n",
    "        if word in data[\"describe_cut\"][i]:\n",
    "            dict_word[word].append(i)\n",
    "    n += 1\n",
    "    if n % 10 == 0:\n",
    "        print(\"ok + 1, current is {}\".format(n) )"
   ],
   "metadata": {
    "collapsed": false,
    "pycharm": {
     "name": "#%%\n"
    }
   }
  },
  {
   "cell_type": "code",
   "execution_count": 11,
   "outputs": [],
   "source": [
    "def deal(x: str, pattern: str, i: int):\n",
    "  result = re.search(pattern, str(x))\n",
    "  return result.groups()[i] if result is not None else 0\n",
    "\n",
    "data['salary_min'] = data['salary'].apply(deal, pattern=r\"(\\d+)k-(\\d+)k\", i=0)\n",
    "data['salary_max'] = data['salary'].apply(deal, pattern=r\"(\\d+)k-(\\d+)k\", i=1)\n",
    "data[\"salary_min\"] = data[\"salary_min\"].astype(int)\n",
    "data[\"salary_max\"] = data[\"salary_max\"].apply(int)\n",
    "data[\"salary_mid\"] = (data[\"salary_min\"] + data[\"salary_max\"]) / 2"
   ],
   "metadata": {
    "collapsed": false,
    "pycharm": {
     "name": "#%%\n"
    }
   }
  },
  {
   "cell_type": "code",
   "execution_count": 12,
   "outputs": [],
   "source": [
    "data[\"describe_cut\"] = data[\"describe_cut\"].str.lower()"
   ],
   "metadata": {
    "collapsed": false,
    "pycharm": {
     "name": "#%%\n"
    }
   }
  },
  {
   "cell_type": "code",
   "execution_count": 13,
   "outputs": [
    {
     "data": {
      "text/plain": "        company_id position_name   salary   describe_cut  salary_min  \\\n0               53      中级/高级DBA  16k-30k     中级  高级 dba          16   \n1               53      PHP开发工程师  15k-25k     php 开发 工程师          15   \n2               53         IT工程师    5k-8k         it 工程师           5   \n3               53        IT技术支持    5k-7k        it 技术支持           5   \n4               53   python开发工程师  25k-30k  python 开发 工程师          25   \n...            ...           ...      ...            ...         ...   \n130439   122184318     软件高级开发工程师   8k-15k   软件 高级 开发 工程师           8   \n130440   122184318     软件高级开发工程师   8k-15k   软件 高级 开发 工程师           8   \n130441   122184318        UI高级设计  11k-12k       ui 高级 设计          11   \n130442   122185826    vivo手机销售顾问    4k-8k  vivo 手机 销售 顾问           4   \n130443   122186641            工人    4k-7k             工人           4   \n\n        salary_max  salary_mid  \n0               30        23.0  \n1               25        20.0  \n2                8         6.5  \n3                7         6.0  \n4               30        27.5  \n...            ...         ...  \n130439          15        11.5  \n130440          15        11.5  \n130441          12        11.5  \n130442           8         6.0  \n130443           7         5.5  \n\n[130444 rows x 7 columns]",
      "text/html": "<div>\n<style scoped>\n    .dataframe tbody tr th:only-of-type {\n        vertical-align: middle;\n    }\n\n    .dataframe tbody tr th {\n        vertical-align: top;\n    }\n\n    .dataframe thead th {\n        text-align: right;\n    }\n</style>\n<table border=\"1\" class=\"dataframe\">\n  <thead>\n    <tr style=\"text-align: right;\">\n      <th></th>\n      <th>company_id</th>\n      <th>position_name</th>\n      <th>salary</th>\n      <th>describe_cut</th>\n      <th>salary_min</th>\n      <th>salary_max</th>\n      <th>salary_mid</th>\n    </tr>\n  </thead>\n  <tbody>\n    <tr>\n      <th>0</th>\n      <td>53</td>\n      <td>中级/高级DBA</td>\n      <td>16k-30k</td>\n      <td>中级  高级 dba</td>\n      <td>16</td>\n      <td>30</td>\n      <td>23.0</td>\n    </tr>\n    <tr>\n      <th>1</th>\n      <td>53</td>\n      <td>PHP开发工程师</td>\n      <td>15k-25k</td>\n      <td>php 开发 工程师</td>\n      <td>15</td>\n      <td>25</td>\n      <td>20.0</td>\n    </tr>\n    <tr>\n      <th>2</th>\n      <td>53</td>\n      <td>IT工程师</td>\n      <td>5k-8k</td>\n      <td>it 工程师</td>\n      <td>5</td>\n      <td>8</td>\n      <td>6.5</td>\n    </tr>\n    <tr>\n      <th>3</th>\n      <td>53</td>\n      <td>IT技术支持</td>\n      <td>5k-7k</td>\n      <td>it 技术支持</td>\n      <td>5</td>\n      <td>7</td>\n      <td>6.0</td>\n    </tr>\n    <tr>\n      <th>4</th>\n      <td>53</td>\n      <td>python开发工程师</td>\n      <td>25k-30k</td>\n      <td>python 开发 工程师</td>\n      <td>25</td>\n      <td>30</td>\n      <td>27.5</td>\n    </tr>\n    <tr>\n      <th>...</th>\n      <td>...</td>\n      <td>...</td>\n      <td>...</td>\n      <td>...</td>\n      <td>...</td>\n      <td>...</td>\n      <td>...</td>\n    </tr>\n    <tr>\n      <th>130439</th>\n      <td>122184318</td>\n      <td>软件高级开发工程师</td>\n      <td>8k-15k</td>\n      <td>软件 高级 开发 工程师</td>\n      <td>8</td>\n      <td>15</td>\n      <td>11.5</td>\n    </tr>\n    <tr>\n      <th>130440</th>\n      <td>122184318</td>\n      <td>软件高级开发工程师</td>\n      <td>8k-15k</td>\n      <td>软件 高级 开发 工程师</td>\n      <td>8</td>\n      <td>15</td>\n      <td>11.5</td>\n    </tr>\n    <tr>\n      <th>130441</th>\n      <td>122184318</td>\n      <td>UI高级设计</td>\n      <td>11k-12k</td>\n      <td>ui 高级 设计</td>\n      <td>11</td>\n      <td>12</td>\n      <td>11.5</td>\n    </tr>\n    <tr>\n      <th>130442</th>\n      <td>122185826</td>\n      <td>vivo手机销售顾问</td>\n      <td>4k-8k</td>\n      <td>vivo 手机 销售 顾问</td>\n      <td>4</td>\n      <td>8</td>\n      <td>6.0</td>\n    </tr>\n    <tr>\n      <th>130443</th>\n      <td>122186641</td>\n      <td>工人</td>\n      <td>4k-7k</td>\n      <td>工人</td>\n      <td>4</td>\n      <td>7</td>\n      <td>5.5</td>\n    </tr>\n  </tbody>\n</table>\n<p>130444 rows × 7 columns</p>\n</div>"
     },
     "execution_count": 13,
     "metadata": {},
     "output_type": "execute_result"
    }
   ],
   "source": [
    "data\n",
    "\n"
   ],
   "metadata": {
    "collapsed": false,
    "pycharm": {
     "name": "#%%\n"
    }
   }
  },
  {
   "cell_type": "code",
   "execution_count": 14,
   "outputs": [
    {
     "name": "stderr",
     "output_type": "stream",
     "text": [
      "d:\\code\\python\\statistics\\venv\\lib\\site-packages\\ipykernel_launcher.py:3: RuntimeWarning: invalid value encountered in double_scalars\n",
      "  This is separate from the ipykernel package so we can avoid doing imports until\n"
     ]
    }
   ],
   "source": [
    "words_sum = dict()\n",
    "for word in count_vec.get_feature_names():\n",
    "    num = data.iloc[dict_word[word], 6].sum()/ len(dict_word[word])\n",
    "    words_sum[word] = words_sum.get(word, (num if num is not None else 0) )"
   ],
   "metadata": {
    "collapsed": false,
    "pycharm": {
     "name": "#%%\n"
    }
   }
  },
  {
   "cell_type": "code",
   "execution_count": 15,
   "outputs": [
    {
     "data": {
      "text/plain": "{'ai': 26.11111111111111,\n 'android': 22.754290171606865,\n 'bd': 11.82312925170068,\n 'hrbp': 16.553299492385786,\n 'ios': 24.189688715953306,\n 'java': 22.186233014034308,\n 'mj': nan,\n 'php': 17.800875273522976,\n 'ui': 16.628348214285715,\n 'web': 19.260187040748164,\n '上海': 25.085365853658537,\n '专员': 8.919126406353408,\n '专家': 34.88086398920014,\n '业务': 24.32072712076891,\n '中心': 26.945153061224488,\n '中级': 15.245833333333334,\n '主播': 11.350538599640933,\n '主管': 15.139137857447716,\n '产品': 25.777647439527545,\n '人事': 6.562642369020502,\n '代表': 9.054426705370101,\n '优化': 17.947100712105797,\n '内容': 18.624339894383102,\n '分析师': 22.640452538631347,\n '前端': 23.15727496026586,\n '前端开发': 22.12374749498998,\n '助理': 7.882259767687434,\n '北京': 26.662745098039217,\n '司机': 14.389830508474576,\n '后台': 29.6615873015873,\n '品牌': 21.886506935687265,\n '售前': 17.706436420722135,\n '商业': 28.785897435897436,\n '商业化': 29.327662721893493,\n '商务': 15.778428093645484,\n '培训': 14.367307692307692,\n '增长': 28.106047700170357,\n '媒体': 13.616462976276061,\n '安全': 29.16270178419711,\n '实习生': 4.31624674196351,\n '客户': 18.771240831295845,\n '客户端': 27.602459016393443,\n '客户经理': 14.358549222797928,\n '客服': 7.870004391743522,\n '市场': 17.082686567164178,\n '平台': 29.617094672288232,\n '广告': 20.45423613473971,\n '开发': 23.766038102643858,\n '总监': 34.05400372439479,\n '房产': 11.009370816599732,\n '技术': 31.716578424884183,\n '拓展': 18.435,\n '招聘': 13.802518427518427,\n '教育': 22.707535885167463,\n '数据': 26.725490196078432,\n '文案': 10.60490045941807,\n '方向': 25.575187969924812,\n '服务': 24.001222493887532,\n '服务端': 28.970137825421133,\n '架构师': 39.234657039711195,\n '活动': 17.282868525896415,\n '测试': 20.933908045977013,\n '海外': 21.109610802223987,\n '深圳': 27.63984962406015,\n '渠道': 17.21828358208955,\n '游戏': 18.617781155015198,\n '用户': 24.090970049173,\n '电商': 18.94105894105894,\n '电话': 8.405820105820105,\n '直播': 21.03211009174312,\n '研发': 31.623394610929235,\n '社群': 13.292753623188405,\n '策划': 15.947959565705728,\n '策略': 28.7125,\n '算法': 35.60564085447263,\n '管理': 19.539296187683284,\n '系统': 26.60604229607251,\n '经理': 22.350544129632294,\n '经纪人': 10.335443037974683,\n '编辑': 11.251821493624773,\n '网络': 15.957542457542457,\n '美团': 29.782874617737004,\n '腾讯': 27.05948905109489,\n '营销': 20.295468848332284,\n '行业': 23.78743455497382,\n '视觉': 22.419534412955464,\n '视频': 20.00019040365575,\n '设计师': 17.824239497827136,\n '课程': 12.90382626680455,\n '负责人': 38.94112699747687,\n '资深': 29.641928800150687,\n '软件': 18.194575979337063,\n '运维': 21.122811534500514,\n '运营': 17.94460631286854,\n '金融': 25.553787047200878,\n '销售': 12.938242559698859,\n '项目': 19.73767258382643,\n '项目经理': 20.642188624910006,\n '顾问': 12.196581196581196,\n '高级': 27.089714573117064}"
     },
     "execution_count": 15,
     "metadata": {},
     "output_type": "execute_result"
    }
   ],
   "source": [
    "words_sum"
   ],
   "metadata": {
    "collapsed": false,
    "pycharm": {
     "name": "#%%\n"
    }
   }
  },
  {
   "cell_type": "code",
   "execution_count": 16,
   "outputs": [
    {
     "data": {
      "text/plain": "False    116924\nTrue      13520\nName: describe_cut, dtype: int64"
     },
     "execution_count": 16,
     "metadata": {},
     "output_type": "execute_result"
    }
   ],
   "source": [
    "def deal(words: str, words_sum):\n",
    "    words = words.split(\" \")\n",
    "    s = 0\n",
    "    n = 0\n",
    "    for word in words:\n",
    "\n",
    "        if words_sum.get(word) is not None:\n",
    "            s += words_sum.get(word)\n",
    "            n += 1\n",
    "\n",
    "    if n != 0:\n",
    "        return s / n\n",
    "    else:\n",
    "        return s\n",
    "(data[\"describe_cut\"].apply(deal, words_sum=words_sum)==0).value_counts()"
   ],
   "metadata": {
    "collapsed": false,
    "pycharm": {
     "name": "#%%\n"
    }
   }
  },
  {
   "cell_type": "code",
   "execution_count": 17,
   "outputs": [
    {
     "data": {
      "text/plain": "0         21.167774\n1         20.783457\n2          0.000000\n3          0.000000\n4         23.766038\n            ...    \n130439    23.016776\n130440    23.016776\n130441    21.859031\n130442    12.567412\n130443     0.000000\nName: describe_cut, Length: 130444, dtype: float64"
     },
     "execution_count": 17,
     "metadata": {},
     "output_type": "execute_result"
    }
   ],
   "source": [
    "data[\"describe_cut\"].apply(deal, words_sum=words_sum)"
   ],
   "metadata": {
    "collapsed": false,
    "pycharm": {
     "name": "#%%\n"
    }
   }
  },
  {
   "cell_type": "code",
   "execution_count": 18,
   "outputs": [
    {
     "data": {
      "text/plain": "0.8963539909846371"
     },
     "execution_count": 18,
     "metadata": {},
     "output_type": "execute_result"
    }
   ],
   "source": [
    "116924 / (13520 + 116924)"
   ],
   "metadata": {
    "collapsed": false,
    "pycharm": {
     "name": "#%%\n"
    }
   }
  },
  {
   "cell_type": "code",
   "execution_count": 19,
   "outputs": [],
   "source": [
    "ls = []\n",
    "for key in dict_word:\n",
    "    ls += dict_word[key]\n",
    "fitter = set(ls)\n",
    "\n",
    "dict_other = {\n",
    "    \"other\": []\n",
    "}\n",
    "\n",
    "for i in range(130443):\n",
    "    if i not in fitter:\n",
    "        dict_other[\"other\"].append(i)"
   ],
   "metadata": {
    "collapsed": false,
    "pycharm": {
     "name": "#%%\n"
    }
   }
  },
  {
   "cell_type": "code",
   "execution_count": 20,
   "outputs": [],
   "source": [
    "a = data.iloc[dict_other[\"other\"], 6].sum() / len(dict_other[\"other\"])"
   ],
   "metadata": {
    "collapsed": false,
    "pycharm": {
     "name": "#%%\n"
    }
   }
  },
  {
   "cell_type": "code",
   "execution_count": 21,
   "outputs": [
    {
     "data": {
      "text/plain": "False    130444\nName: describe_cut, dtype: int64"
     },
     "execution_count": 21,
     "metadata": {},
     "output_type": "execute_result"
    }
   ],
   "source": [
    "(data[\"describe_cut\"].apply(deal, words_sum=words_sum).apply(lambda x: a if x == 0 or x is not None else x) == 0).value_counts()"
   ],
   "metadata": {
    "collapsed": false,
    "pycharm": {
     "name": "#%%\n"
    }
   }
  },
  {
   "cell_type": "code",
   "execution_count": 22,
   "outputs": [],
   "source": [
    "data[\"describe_cut_\"] = data[\"describe_cut\"].apply(deal, words_sum=words_sum).apply(lambda x: a if x == 0 or x is not None else x)"
   ],
   "metadata": {
    "collapsed": false,
    "pycharm": {
     "name": "#%%\n"
    }
   }
  },
  {
   "cell_type": "code",
   "execution_count": 23,
   "outputs": [
    {
     "data": {
      "text/plain": "False    130444\nName: describe_cut, dtype: int64"
     },
     "execution_count": 23,
     "metadata": {},
     "output_type": "execute_result"
    }
   ],
   "source": [
    "data[\"describe_cut\"].apply(deal, words_sum=words_sum).apply(lambda x: a if x == 0 or x is not None else x).isnull().value_counts()"
   ],
   "metadata": {
    "collapsed": false,
    "pycharm": {
     "name": "#%%\n"
    }
   }
  },
  {
   "cell_type": "code",
   "execution_count": 24,
   "outputs": [],
   "source": [
    "data[\"describe_cut_\"].to_csv(\"./职位关联.csv\")"
   ],
   "metadata": {
    "collapsed": false,
    "pycharm": {
     "name": "#%%\n"
    }
   }
  },
  {
   "cell_type": "code",
   "execution_count": 28,
   "outputs": [
    {
     "data": {
      "text/plain": "0.2252922181308139"
     },
     "execution_count": 28,
     "metadata": {},
     "output_type": "execute_result"
    }
   ],
   "source": [
    "from sklearn.metrics import r2_score\n",
    "-r2_score(data[\"salary_mid\"], data[\"describe_cut_\"])\n",
    "\n"
   ],
   "metadata": {
    "collapsed": false,
    "pycharm": {
     "name": "#%%\n"
    }
   }
  }
 ],
 "metadata": {
  "kernelspec": {
   "display_name": "Python 3",
   "language": "python",
   "name": "python3"
  },
  "language_info": {
   "codemirror_mode": {
    "name": "ipython",
    "version": 2
   },
   "file_extension": ".py",
   "mimetype": "text/x-python",
   "name": "python",
   "nbconvert_exporter": "python",
   "pygments_lexer": "ipython2",
   "version": "2.7.6"
  }
 },
 "nbformat": 4,
 "nbformat_minor": 0
}