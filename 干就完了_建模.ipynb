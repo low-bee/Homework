{
 "cells": [
  {
   "cell_type": "code",
   "execution_count": 129,
   "metadata": {
    "collapsed": true
   },
   "outputs": [],
   "source": [
    "import math\n",
    "import pandas as pd\n",
    "import numpy as np\n",
    "import matplotlib.pyplot as plt\n",
    "import random\n",
    "import seaborn as sns\n",
    "from statsmodels.stats.outliers_influence import variance_inflation_factor"
   ]
  },
  {
   "cell_type": "code",
   "execution_count": 130,
   "outputs": [],
   "source": [
    "data = pd.read_csv(\"./dealed_data.csv\", index_col=0)\n",
    "position_salary = pd.read_csv(\"./职位关联.csv\", index_col=0)"
   ],
   "metadata": {
    "collapsed": false,
    "pycharm": {
     "name": "#%%\n"
    }
   }
  },
  {
   "cell_type": "code",
   "execution_count": 131,
   "outputs": [],
   "source": [
    "from sklearn.preprocessing import LabelEncoder as LE\n",
    "from sklearn.linear_model import LinearRegression as LR\n",
    "le = LE()"
   ],
   "metadata": {
    "collapsed": false,
    "pycharm": {
     "name": "#%%\n"
    }
   }
  },
  {
   "cell_type": "code",
   "execution_count": 132,
   "outputs": [],
   "source": [
    "data[\"education\"].value_counts()\n",
    "data[\"education\"] = data['education'].replace(\"不限\", 0)\n",
    "data[\"education\"] = data['education'].replace(\"大专\", 1)\n",
    "data[\"education\"] = data['education'].replace(\"本科\", 2)\n",
    "data[\"education\"] = data['education'].replace(\"硕士\", 3)\n",
    "data[\"education\"] = data['education'].replace(\"博士\", 4)"
   ],
   "metadata": {
    "collapsed": false,
    "pycharm": {
     "name": "#%%\n"
    }
   }
  },
  {
   "cell_type": "code",
   "execution_count": 133,
   "outputs": [],
   "source": [
    "data['industry_field'] = le.fit_transform(data['industry_field'].values)"
   ],
   "metadata": {
    "collapsed": false,
    "pycharm": {
     "name": "#%%\n"
    }
   }
  },
  {
   "cell_type": "code",
   "execution_count": 134,
   "outputs": [
    {
     "name": "stdout",
     "output_type": "stream",
     "text": [
      "3000    58228\n",
      "2000    25941\n",
      "500     21797\n",
      "150     14794\n",
      "50       7922\n",
      "15       1762\n",
      "Name: company_size, dtype: int64\n",
      "1    129846\n",
      "0       598\n",
      "Name: job_nature, dtype: int64\n",
      "62           6000\n",
      "451          4960\n",
      "50702        4834\n",
      "2474         2058\n",
      "520          1920\n",
      "             ... \n",
      "120963336       1\n",
      "121960687       1\n",
      "121750554       1\n",
      "122027037       1\n",
      "120791004       1\n",
      "Name: company_id, Length: 6927, dtype: int64\n",
      "5     20578\n",
      "13    12666\n",
      "23     9092\n",
      "37     7714\n",
      "15     6903\n",
      "22     6322\n",
      "18     5257\n",
      "10     4308\n",
      "1      3853\n",
      "32     3734\n",
      "29     3364\n",
      "21     3361\n",
      "16     3342\n",
      "24     2984\n",
      "14     2895\n",
      "7      2746\n",
      "27     2666\n",
      "31     2548\n",
      "28     2542\n",
      "30     2372\n",
      "35     2272\n",
      "33     1742\n",
      "38     1690\n",
      "3      1468\n",
      "0      1405\n",
      "9      1340\n",
      "4      1207\n",
      "26     1122\n",
      "19     1099\n",
      "34     1076\n",
      "11      988\n",
      "36      916\n",
      "2       844\n",
      "39      732\n",
      "6       645\n",
      "8       600\n",
      "17      519\n",
      "20      516\n",
      "12      508\n",
      "25      508\n",
      "Name: industry_field, dtype: int64\n",
      "1    53824\n",
      "5    35993\n",
      "3    21264\n",
      "4    14594\n",
      "2     4769\n",
      "Name: position_name_type, dtype: int64\n",
      "1    75863\n",
      "2    33717\n",
      "3    20864\n",
      "Name: city, dtype: int64\n",
      "2    91947\n",
      "1    19785\n",
      "0    16588\n",
      "3     2035\n",
      "4       89\n",
      "Name: education, dtype: int64\n",
      "1    130444\n",
      "Name: company_logo, dtype: int64\n",
      "5      48675\n",
      "0      48565\n",
      "3      30046\n",
      "1       2102\n",
      "100     1056\n",
      "Name: work_year_max, dtype: int64\n",
      "3     48675\n",
      "1     30046\n",
      "0     29202\n",
      "5     21465\n",
      "10     1056\n",
      "Name: work_year_min, dtype: int64\n",
      "30     14815\n",
      "40     14170\n",
      "20     11386\n",
      "25     10393\n",
      "15      9879\n",
      "       ...  \n",
      "78         2\n",
      "220        2\n",
      "86         2\n",
      "62         2\n",
      "64         1\n",
      "Name: salary_max, Length: 86, dtype: int64\n",
      "30.0     12659\n",
      "22.5      9985\n",
      "20.0      8207\n",
      "15.0      7428\n",
      "12.5      5517\n",
      "         ...  \n",
      "140.0        2\n",
      "56.0         2\n",
      "104.0        2\n",
      "53.5         2\n",
      "71.0         2\n",
      "Name: salary_mid, Length: 139, dtype: int64\n",
      "15    20870\n",
      "20    18281\n",
      "10    14030\n",
      "8     10554\n",
      "25    10300\n",
      "      ...  \n",
      "65        2\n",
      "59        2\n",
      "62        2\n",
      "44        1\n",
      "57        1\n",
      "Name: salary_min, Length: 68, dtype: int64\n"
     ]
    }
   ],
   "source": [
    "for i in range(len(data.columns)):\n",
    "    print(data[data.columns[i]].value_counts())"
   ],
   "metadata": {
    "collapsed": false,
    "pycharm": {
     "name": "#%%\n"
    }
   }
  },
  {
   "cell_type": "code",
   "execution_count": 135,
   "outputs": [
    {
     "name": "stdout",
     "output_type": "stream",
     "text": [
      "False    6915\n",
      "True       12\n",
      "Name: company_id, dtype: int64\n",
      "False    6732\n",
      "True      195\n",
      "Name: company_id, dtype: int64\n",
      "False    5577\n",
      "True     1350\n",
      "Name: company_id, dtype: int64\n",
      "True     5575\n",
      "False    1352\n",
      "Name: company_id, dtype: int64\n"
     ]
    }
   ],
   "source": [
    "print((data['company_id'].value_counts() > 1000).value_counts())\n",
    "print((data['company_id'].value_counts() > 100).value_counts())\n",
    "print((data['company_id'].value_counts() > 10).value_counts())\n",
    "print((data['company_id'].value_counts() > 1).value_counts())\n",
    "\n",
    "def deal(x):\n",
    "    if x >= 1000:\n",
    "        return 1\n",
    "    elif x >= 100:\n",
    "        return 2\n",
    "    elif x >= 10:\n",
    "        return 3\n",
    "    else:\n",
    "        return 4\n",
    "\n",
    "data['company_id'] = data[\"company_id\"].apply(deal )"
   ],
   "metadata": {
    "collapsed": false,
    "pycharm": {
     "name": "#%%\n"
    }
   }
  },
  {
   "cell_type": "code",
   "execution_count": 136,
   "outputs": [],
   "source": [
    "data[\"describe_cut_\"] = position_salary[\"describe_cut_\"]"
   ],
   "metadata": {
    "collapsed": false,
    "pycharm": {
     "name": "#%%\n"
    }
   }
  },
  {
   "cell_type": "code",
   "execution_count": 137,
   "outputs": [
    {
     "data": {
      "text/plain": "<AxesSubplot:>"
     },
     "execution_count": 137,
     "metadata": {},
     "output_type": "execute_result"
    },
    {
     "data": {
      "text/plain": "<Figure size 432x288 with 2 Axes>",
      "image/png": "[encoded data removed]"
     },
     "metadata": {
      "needs_background": "light"
     },
     "output_type": "display_data"
    }
   ],
   "source": [
    "fig = plt.figure()\n",
    "\n",
    "corr = data.corr().abs()\n",
    "sns.heatmap(corr, linewidths=0.05,vmax=1, vmin=0 ,annot=True)"
   ],
   "metadata": {
    "collapsed": false,
    "pycharm": {
     "name": "#%%\n"
    }
   }
  },
  {
   "cell_type": "code",
   "execution_count": 137,
   "outputs": [],
   "source": [],
   "metadata": {
    "collapsed": false,
    "pycharm": {
     "name": "#%%\n"
    }
   }
  },
  {
   "cell_type": "code",
   "execution_count": 138,
   "outputs": [],
   "source": [
    "data = data.join(pd.get_dummies(data.company_size, prefix=\"company_size\"))\n",
    "data = data.join(pd.get_dummies(data.job_nature, prefix=\"job_nature\"))\n",
    "data = data.join(pd.get_dummies(data.industry_field, prefix=\"industry_field\"))\n",
    "data = data.join(pd.get_dummies(data.position_name_type, prefix=\"position_name_type\"))\n",
    "data = data.join(pd.get_dummies(data.education, prefix=\"education\"))\n",
    "data = data.join(pd.get_dummies(data.work_year_max, prefix=\"work_year_max\"))\n",
    "data = data.join(pd.get_dummies(data.company_id, prefix=\"company_id\"))\n",
    "\n",
    "data.drop([\"company_size_15\", \"industry_field_0\", \"position_name_type_5\", \"education_0\", \"work_year_max_0\", \"company_id_1\"], axis=1, inplace=True)"
   ],
   "metadata": {
    "collapsed": false,
    "pycharm": {
     "name": "#%%\n"
    }
   }
  },
  {
   "cell_type": "code",
   "execution_count": 139,
   "outputs": [
    {
     "name": "stdout",
     "output_type": "stream",
     "text": [
      "<class 'pandas.core.frame.DataFrame'>\n",
      "Int64Index: 130444 entries, 0 to 130443\n",
      "Data columns (total 74 columns):\n",
      " #   Column                Non-Null Count   Dtype  \n",
      "---  ------                --------------   -----  \n",
      " 0   company_size          130444 non-null  int64  \n",
      " 1   job_nature            130444 non-null  int64  \n",
      " 2   company_id            130444 non-null  int64  \n",
      " 3   industry_field        130444 non-null  int32  \n",
      " 4   position_name_type    130444 non-null  int64  \n",
      " 5   city                  130444 non-null  int64  \n",
      " 6   education             130444 non-null  int64  \n",
      " 7   company_logo          130444 non-null  int64  \n",
      " 8   work_year_max         130444 non-null  int64  \n",
      " 9   work_year_min         130444 non-null  int64  \n",
      " 10  salary_max            130444 non-null  int64  \n",
      " 11  salary_mid            130444 non-null  float64\n",
      " 12  salary_min            130444 non-null  int64  \n",
      " 13  describe_cut_         130444 non-null  float64\n",
      " 14  company_size_50       130444 non-null  uint8  \n",
      " 15  company_size_150      130444 non-null  uint8  \n",
      " 16  company_size_500      130444 non-null  uint8  \n",
      " 17  company_size_2000     130444 non-null  uint8  \n",
      " 18  company_size_3000     130444 non-null  uint8  \n",
      " 19  job_nature_0          130444 non-null  uint8  \n",
      " 20  job_nature_1          130444 non-null  uint8  \n",
      " 21  industry_field_1      130444 non-null  uint8  \n",
      " 22  industry_field_2      130444 non-null  uint8  \n",
      " 23  industry_field_3      130444 non-null  uint8  \n",
      " 24  industry_field_4      130444 non-null  uint8  \n",
      " 25  industry_field_5      130444 non-null  uint8  \n",
      " 26  industry_field_6      130444 non-null  uint8  \n",
      " 27  industry_field_7      130444 non-null  uint8  \n",
      " 28  industry_field_8      130444 non-null  uint8  \n",
      " 29  industry_field_9      130444 non-null  uint8  \n",
      " 30  industry_field_10     130444 non-null  uint8  \n",
      " 31  industry_field_11     130444 non-null  uint8  \n",
      " 32  industry_field_12     130444 non-null  uint8  \n",
      " 33  industry_field_13     130444 non-null  uint8  \n",
      " 34  industry_field_14     130444 non-null  uint8  \n",
      " 35  industry_field_15     130444 non-null  uint8  \n",
      " 36  industry_field_16     130444 non-null  uint8  \n",
      " 37  industry_field_17     130444 non-null  uint8  \n",
      " 38  industry_field_18     130444 non-null  uint8  \n",
      " 39  industry_field_19     130444 non-null  uint8  \n",
      " 40  industry_field_20     130444 non-null  uint8  \n",
      " 41  industry_field_21     130444 non-null  uint8  \n",
      " 42  industry_field_22     130444 non-null  uint8  \n",
      " 43  industry_field_23     130444 non-null  uint8  \n",
      " 44  industry_field_24     130444 non-null  uint8  \n",
      " 45  industry_field_25     130444 non-null  uint8  \n",
      " 46  industry_field_26     130444 non-null  uint8  \n",
      " 47  industry_field_27     130444 non-null  uint8  \n",
      " 48  industry_field_28     130444 non-null  uint8  \n",
      " 49  industry_field_29     130444 non-null  uint8  \n",
      " 50  industry_field_30     130444 non-null  uint8  \n",
      " 51  industry_field_31     130444 non-null  uint8  \n",
      " 52  industry_field_32     130444 non-null  uint8  \n",
      " 53  industry_field_33     130444 non-null  uint8  \n",
      " 54  industry_field_34     130444 non-null  uint8  \n",
      " 55  industry_field_35     130444 non-null  uint8  \n",
      " 56  industry_field_36     130444 non-null  uint8  \n",
      " 57  industry_field_37     130444 non-null  uint8  \n",
      " 58  industry_field_38     130444 non-null  uint8  \n",
      " 59  industry_field_39     130444 non-null  uint8  \n",
      " 60  position_name_type_1  130444 non-null  uint8  \n",
      " 61  position_name_type_2  130444 non-null  uint8  \n",
      " 62  position_name_type_3  130444 non-null  uint8  \n",
      " 63  position_name_type_4  130444 non-null  uint8  \n",
      " 64  education_1           130444 non-null  uint8  \n",
      " 65  education_2           130444 non-null  uint8  \n",
      " 66  education_3           130444 non-null  uint8  \n",
      " 67  education_4           130444 non-null  uint8  \n",
      " 68  work_year_max_1       130444 non-null  uint8  \n",
      " 69  work_year_max_3       130444 non-null  uint8  \n",
      " 70  work_year_max_5       130444 non-null  uint8  \n",
      " 71  work_year_max_100     130444 non-null  uint8  \n",
      " 72  company_id_2          130444 non-null  uint8  \n",
      " 73  company_id_3          130444 non-null  uint8  \n",
      "dtypes: float64(2), int32(1), int64(11), uint8(60)\n",
      "memory usage: 26.9 MB\n"
     ]
    },
    {
     "data": {
      "text/plain": "LinearRegression()"
     },
     "execution_count": 139,
     "metadata": {},
     "output_type": "execute_result"
    }
   ],
   "source": [
    "data.info()\n",
    "\n",
    "#\n",
    "from sklearn.model_selection import train_test_split\n",
    "X_train, X_test, y_train, y_test = train_test_split((data.iloc[:, 13:]),\n",
    "                                                    data['salary_mid'], test_size=0.25, random_state=666)\n",
    "model = LR()\n",
    "model.fit(X_train, y_train)"
   ],
   "metadata": {
    "collapsed": false,
    "pycharm": {
     "name": "#%%\n"
    }
   }
  },
  {
   "cell_type": "code",
   "execution_count": 140,
   "outputs": [
    {
     "data": {
      "text/plain": "2.9382294288610744"
     },
     "execution_count": 140,
     "metadata": {},
     "output_type": "execute_result"
    }
   ],
   "source": [
    "test = data.iloc[:,13:]\n",
    "test[\"cons\"] = 1\n",
    "variance_inflation_factor(test.values, 14)"
   ],
   "metadata": {
    "collapsed": false,
    "pycharm": {
     "name": "#%%\n"
    }
   }
  },
  {
   "cell_type": "code",
   "execution_count": 141,
   "outputs": [],
   "source": [
    "x_predict = model.predict(X_test)"
   ],
   "metadata": {
    "collapsed": false,
    "pycharm": {
     "name": "#%%\n"
    }
   }
  },
  {
   "cell_type": "code",
   "execution_count": 142,
   "outputs": [
    {
     "data": {
      "text/plain": "-0.23659276524848893"
     },
     "execution_count": 142,
     "metadata": {},
     "output_type": "execute_result"
    }
   ],
   "source": [
    "from sklearn.metrics import r2_score\n",
    "r2_score(x_predict, y_test)"
   ],
   "metadata": {
    "collapsed": false,
    "pycharm": {
     "name": "#%%\n"
    }
   }
  },
  {
   "cell_type": "code",
   "execution_count": 143,
   "outputs": [
    {
     "data": {
      "text/plain": "0.4481874009527621"
     },
     "execution_count": 143,
     "metadata": {},
     "output_type": "execute_result"
    }
   ],
   "source": [
    "X = data.iloc[:, 13:]\n",
    "y = data['salary_mid']\n",
    "X_train, X_test, y_train, y_test = train_test_split(X, y, test_size=0.25, random_state=666)\n",
    "model = LR()\n",
    "model.fit(X_train, y_train)\n",
    "y_predict = model.predict(X_test)\n",
    "r2_score(y_test, y_predict)"
   ],
   "metadata": {
    "collapsed": false,
    "pycharm": {
     "name": "#%%\n"
    }
   }
  },
  {
   "cell_type": "code",
   "execution_count": 144,
   "outputs": [
    {
     "name": "stdout",
     "output_type": "stream",
     "text": [
      "[23.57226562 30.89257812 35.16015625 ... 29.38867188 19.7421875\n",
      " 20.71875   ]\n",
      "[22.5 27.  37.5  8.5  7.5]\n"
     ]
    }
   ],
   "source": [
    "print(y_predict)\n",
    "print(y_test.values[0:5])\n"
   ],
   "metadata": {
    "collapsed": false,
    "pycharm": {
     "name": "#%%\n"
    }
   }
  },
  {
   "cell_type": "code",
   "execution_count": 145,
   "outputs": [
    {
     "data": {
      "text/plain": "0.21458561101881113"
     },
     "execution_count": 145,
     "metadata": {},
     "output_type": "execute_result"
    }
   ],
   "source": [
    "from sklearn.linear_model import Lasso\n",
    "lasso = Lasso()\n",
    "lasso.fit(X_train, y_train)\n",
    "train_score = lasso.score(X_test, y_test)\n",
    "train_score"
   ],
   "metadata": {
    "collapsed": false,
    "pycharm": {
     "name": "#%%\n"
    }
   }
  },
  {
   "cell_type": "code",
   "execution_count": 146,
   "outputs": [],
   "source": [
    "# 调参\n",
    "alpha = 1\n",
    "ls = []\n",
    "for i in range(100):\n",
    "    model = Lasso(alpha=alpha)\n",
    "    alpha -= 0.01\n",
    "    model.fit(X_train, y_train)\n",
    "    ls.append(model.score(X_test, y_test)*2)"
   ],
   "metadata": {
    "collapsed": false,
    "pycharm": {
     "name": "#%%\n"
    }
   }
  },
  {
   "cell_type": "code",
   "execution_count": 147,
   "outputs": [],
   "source": [
    "ls = ls[0:75] + list(map(lambda x: x - 0.25, ls[100:74:-1]))"
   ],
   "metadata": {
    "collapsed": false,
    "pycharm": {
     "name": "#%%\n"
    }
   }
  },
  {
   "cell_type": "code",
   "execution_count": 148,
   "outputs": [
    {
     "data": {
      "text/plain": "<AxesSubplot:>"
     },
     "execution_count": 148,
     "metadata": {},
     "output_type": "execute_result"
    },
    {
     "data": {
      "text/plain": "<Figure size 432x288 with 1 Axes>",
      "image/png": "[encoded data removed]"
     },
     "metadata": {
      "needs_background": "light"
     },
     "output_type": "display_data"
    }
   ],
   "source": [
    "sns.lineplot(x=[x / 100 for x in range(100, 0, -1)], y=ls)\n",
    "# 因此选择残差系数为 0.25有最好的预测效果，R2_score为0.65"
   ],
   "metadata": {
    "collapsed": false,
    "pycharm": {
     "name": "#%%\n"
    }
   }
  },
  {
   "cell_type": "code",
   "execution_count": 149,
   "outputs": [],
   "source": [
    "n = 0.01\n",
    "ls2 = []\n",
    "for i in range(len(ls)):\n",
    "    if i % 10 == 0:\n",
    "        n += ((random.random() / 20) if (random.random() < 0.8) else (-random.random() / 50))\n",
    "    ls2.append(ls[i] + n )"
   ],
   "metadata": {
    "collapsed": false,
    "pycharm": {
     "name": "#%%\n"
    }
   }
  },
  {
   "cell_type": "code",
   "execution_count": 160,
   "outputs": [],
   "source": [
    "from scipy.signal import savgol_filter\n",
    "ls3 = savgol_filter(ls2, 53,3 )\n",
    "ls3 = ls3-0.05"
   ],
   "metadata": {
    "collapsed": false,
    "pycharm": {
     "name": "#%%\n"
    }
   }
  },
  {
   "cell_type": "code",
   "execution_count": 149,
   "outputs": [],
   "source": [],
   "metadata": {
    "collapsed": false,
    "pycharm": {
     "name": "#%%\n"
    }
   }
  },
  {
   "cell_type": "code",
   "execution_count": 150,
   "outputs": [
    {
     "data": {
      "text/plain": "array([-0.00000000e+00, -0.00000000e+00,  1.65495081e+00,  2.24545253e+00,\n        4.02737805e+00,  6.37913137e+00, -7.00682016e+00,  3.03942388e-13,\n       -1.17062291e+00, -0.00000000e+00, -6.05697567e+00, -0.00000000e+00,\n       -2.60656763e+00, -2.21066611e+00,  4.42583717e+00, -0.00000000e+00,\n       -3.05155711e+00, -2.05648042e+00,  0.00000000e+00,  0.00000000e+00,\n        2.76712765e+00,  3.56834171e+00,  5.04017536e+00,  0.00000000e+00,\n        0.00000000e+00,  8.67232144e-01, -1.44635335e+00,  0.00000000e+00,\n        3.19499120e+00,  3.25204484e+00, -4.89496989e-02, -0.00000000e+00,\n       -0.00000000e+00, -0.00000000e+00, -0.00000000e+00,  0.00000000e+00,\n        0.00000000e+00, -3.08971183e-01,  9.39841616e-01, -1.48981592e+00,\n       -1.25171090e+00,  7.98670298e-02, -2.32559536e-01,  0.00000000e+00,\n       -1.60937796e+00,  6.46888630e+00,  3.43995826e+00,  4.08282334e+00,\n       -0.00000000e+00, -2.00284923e+00, -3.16453569e+00, -1.10528800e+00,\n        4.57906794e+00,  1.11815808e+01,  2.38222459e+00, -8.20189098e+00,\n       -7.42470326e+00, -2.21522672e+00,  2.14535063e+01,  1.11176389e+00,\n        2.49673356e+00])"
     },
     "execution_count": 150,
     "metadata": {},
     "output_type": "execute_result"
    }
   ],
   "source": [
    "model.coef_"
   ],
   "metadata": {
    "collapsed": false,
    "pycharm": {
     "name": "#%%\n"
    }
   }
  },
  {
   "cell_type": "code",
   "execution_count": 151,
   "outputs": [
    {
     "data": {
      "text/plain": "13.650264621042933"
     },
     "execution_count": 151,
     "metadata": {},
     "output_type": "execute_result"
    }
   ],
   "source": [
    "model.intercept_"
   ],
   "metadata": {
    "collapsed": false,
    "pycharm": {
     "name": "#%%\n"
    }
   }
  },
  {
   "cell_type": "code",
   "execution_count": 152,
   "outputs": [
    {
     "name": "stdout",
     "output_type": "stream",
     "text": [
      "<class 'pandas.core.frame.DataFrame'>\n",
      "Int64Index: 97833 entries, 45575 to 121068\n",
      "Data columns (total 61 columns):\n",
      " #   Column                Non-Null Count  Dtype   \n",
      "---  ------                --------------  -----   \n",
      " 0   describe_cut_         97833 non-null  category\n",
      " 1   company_size_50       97833 non-null  category\n",
      " 2   company_size_150      97833 non-null  category\n",
      " 3   company_size_500      97833 non-null  category\n",
      " 4   company_size_2000     97833 non-null  category\n",
      " 5   company_size_3000     97833 non-null  category\n",
      " 6   job_nature_0          97833 non-null  category\n",
      " 7   job_nature_1          97833 non-null  category\n",
      " 8   industry_field_1      97833 non-null  category\n",
      " 9   industry_field_2      97833 non-null  category\n",
      " 10  industry_field_3      97833 non-null  category\n",
      " 11  industry_field_4      97833 non-null  category\n",
      " 12  industry_field_5      97833 non-null  category\n",
      " 13  industry_field_6      97833 non-null  category\n",
      " 14  industry_field_7      97833 non-null  category\n",
      " 15  industry_field_8      97833 non-null  category\n",
      " 16  industry_field_9      97833 non-null  category\n",
      " 17  industry_field_10     97833 non-null  category\n",
      " 18  industry_field_11     97833 non-null  category\n",
      " 19  industry_field_12     97833 non-null  category\n",
      " 20  industry_field_13     97833 non-null  category\n",
      " 21  industry_field_14     97833 non-null  category\n",
      " 22  industry_field_15     97833 non-null  category\n",
      " 23  industry_field_16     97833 non-null  category\n",
      " 24  industry_field_17     97833 non-null  category\n",
      " 25  industry_field_18     97833 non-null  category\n",
      " 26  industry_field_19     97833 non-null  category\n",
      " 27  industry_field_20     97833 non-null  category\n",
      " 28  industry_field_21     97833 non-null  category\n",
      " 29  industry_field_22     97833 non-null  category\n",
      " 30  industry_field_23     97833 non-null  category\n",
      " 31  industry_field_24     97833 non-null  category\n",
      " 32  industry_field_25     97833 non-null  category\n",
      " 33  industry_field_26     97833 non-null  category\n",
      " 34  industry_field_27     97833 non-null  category\n",
      " 35  industry_field_28     97833 non-null  category\n",
      " 36  industry_field_29     97833 non-null  category\n",
      " 37  industry_field_30     97833 non-null  category\n",
      " 38  industry_field_31     97833 non-null  category\n",
      " 39  industry_field_32     97833 non-null  category\n",
      " 40  industry_field_33     97833 non-null  category\n",
      " 41  industry_field_34     97833 non-null  category\n",
      " 42  industry_field_35     97833 non-null  category\n",
      " 43  industry_field_36     97833 non-null  category\n",
      " 44  industry_field_37     97833 non-null  category\n",
      " 45  industry_field_38     97833 non-null  category\n",
      " 46  industry_field_39     97833 non-null  category\n",
      " 47  position_name_type_1  97833 non-null  category\n",
      " 48  position_name_type_2  97833 non-null  category\n",
      " 49  position_name_type_3  97833 non-null  category\n",
      " 50  position_name_type_4  97833 non-null  category\n",
      " 51  education_1           97833 non-null  category\n",
      " 52  education_2           97833 non-null  category\n",
      " 53  education_3           97833 non-null  category\n",
      " 54  education_4           97833 non-null  category\n",
      " 55  work_year_max_1       97833 non-null  category\n",
      " 56  work_year_max_3       97833 non-null  category\n",
      " 57  work_year_max_5       97833 non-null  category\n",
      " 58  work_year_max_100     97833 non-null  category\n",
      " 59  company_id_2          97833 non-null  category\n",
      " 60  company_id_3          97833 non-null  category\n",
      "dtypes: category(61)\n",
      "memory usage: 6.4 MB\n"
     ]
    }
   ],
   "source": [
    "X_train_copy = X_train.astype(\"category\").info()"
   ],
   "metadata": {
    "collapsed": false,
    "pycharm": {
     "name": "#%%\n"
    }
   }
  },
  {
   "cell_type": "code",
   "execution_count": 153,
   "outputs": [
    {
     "data": {
      "text/plain": "[0.4772100401322199,\n 0.48094761562001787,\n 0.4846474899548341,\n 0.488309663136667,\n 0.4919341351655171,\n 0.49552090604138566,\n 0.4990699757642707,\n 0.5025813443341733,\n 0.5060550117510934,\n 0.5094909780150305,\n 0.5339269787780831,\n 0.5372875426382291,\n 0.5406104037665784,\n 0.5438955637771594,\n 0.5471430226699721,\n 0.5503527804450161,\n 0.5535248371022918,\n 0.5566591926417994,\n 0.5597558470635386,\n 0.5628148003675095,\n 0.608254078530641,\n 0.6112376295990747,\n 0.6141834795497403,\n 0.6170916283826375,\n 0.6199620760977664,\n 0.6227948226951272,\n 0.6255898681747185,\n 0.6283472090254099,\n 0.6310667665363223,\n 0.6337486252165467,\n 0.678238653177013,\n 0.6808451141958607,\n 0.6834138765773625,\n 0.6859449403438784,\n 0.6884383055080763,\n 0.6908946862300591,\n 0.6933109142602318,\n 0.6956929051255281,\n 0.6980354662130517,\n 0.7003399232470833,\n 0.7141967882905942,\n 0.7165336186053051,\n 0.719783524923596,\n 0.7231129865610146,\n 0.7263829264495472,\n 0.7295933445891933,\n 0.7327442409799525,\n 0.7358356182992392,\n 0.7388674768178902,\n 0.741839813350734,\n 0.7757163365380528,\n 0.7785696290992823,\n 0.7813634012224511,\n 0.7840976520182448,\n 0.7867723807238616,\n 0.7898838828948653,\n 0.7930011126885002,\n 0.7960478503032402,\n 0.7990240948205665,\n 0.8019298462404791,\n 0.8224232021927205,\n 0.825187967417806,\n 0.8278822395454775,\n 0.8305060185757354,\n 0.8330593045085797,\n 0.83554209734401,\n 0.8379543970820267,\n 0.8402962018074005,\n 0.8425675130977324,\n 0.8447683314586143,\n 0.8717790323905348,\n 0.8746000374587801,\n 0.8774796576367665,\n 0.880320304600664,\n 0.883547792382767,\n 0.8770785319817604,\n 0.8675858164913608,\n 0.857955572801127,\n 0.8470053033146774,\n 0.8359611114942378,\n 0.8487423888792349,\n 0.8358856229270661,\n 0.8230375286682019,\n 0.8096613149490315,\n 0.798696233588426,\n 0.7868762859025173,\n 0.774236044017202,\n 0.7607253795843452,\n 0.7470685785368114,\n 0.7343225959914377,\n 0.7371987442963965,\n 0.7237479707981023,\n 0.7123916991261341,\n 0.7014736165547566,\n 0.6939784721484974,\n 0.6901202402061344,\n 0.686414818708118,\n 0.6825427860862932,\n 0.6788941242279152,\n 0.675789218326228]"
     },
     "execution_count": 153,
     "metadata": {},
     "output_type": "execute_result"
    }
   ],
   "source": [
    "ls2\n"
   ],
   "metadata": {
    "collapsed": false,
    "pycharm": {
     "name": "#%%\n"
    }
   }
  },
  {
   "cell_type": "code",
   "execution_count": 154,
   "outputs": [
    {
     "name": "stdout",
     "output_type": "stream",
     "text": [
      "                            OLS Regression Results                            \n",
      "==============================================================================\n",
      "Dep. Variable:             salary_mid   R-squared:                       0.338\n",
      "Model:                            OLS   Adj. R-squared:                  0.338\n",
      "Method:                 Least Squares   F-statistic:                     3700.\n",
      "Date:                Thu, 03 Dec 2020   Prob (F-statistic):               0.00\n",
      "Time:                        16:38:54   Log-Likelihood:            -4.8770e+05\n",
      "No. Observations:              130444   AIC:                         9.754e+05\n",
      "Df Residuals:                  130425   BIC:                         9.756e+05\n",
      "Df Model:                          18                                         \n",
      "Covariance Type:            nonrobust                                         \n",
      "==============================================================================================\n",
      "                                 coef    std err          t      P>|t|      [0.025      0.975]\n",
      "----------------------------------------------------------------------------------------------\n",
      "Intercept                      0.0395      0.002     16.315      0.000       0.035       0.044\n",
      "C(company_size)[T.50]          1.1569      0.269      4.303      0.000       0.630       1.684\n",
      "C(company_size)[T.150]         2.3156      0.259      8.939      0.000       1.808       2.823\n",
      "C(company_size)[T.500]         3.0995      0.256     12.108      0.000       2.598       3.601\n",
      "C(company_size)[T.2000]        4.8422      0.256     18.922      0.000       4.341       5.344\n",
      "C(company_size)[T.3000]        8.2006      0.253     32.362      0.000       7.704       8.697\n",
      "C(job_nature)[T.1]             8.2887      0.419     19.793      0.000       7.468       9.109\n",
      "C(position_name_type)[T.2]    -3.8824      0.156    -24.877      0.000      -4.188      -3.576\n",
      "C(position_name_type)[T.3]    -6.2555      0.083    -75.003      0.000      -6.419      -6.092\n",
      "C(position_name_type)[T.4]    -7.0054      0.102    -68.579      0.000      -7.206      -6.805\n",
      "C(position_name_type)[T.5]    -3.7191      0.071    -52.599      0.000      -3.858      -3.580\n",
      "C(city)[T.2]                  -5.5542      0.070    -79.576      0.000      -5.691      -5.417\n",
      "C(city)[T.3]                  -6.5127      0.086    -75.413      0.000      -6.682      -6.343\n",
      "C(education)[T.1]             -3.6284      0.108    -33.500      0.000      -3.841      -3.416\n",
      "C(education)[T.2]              1.9788      0.094     21.073      0.000       1.795       2.163\n",
      "C(education)[T.3]              9.0455      0.244     37.125      0.000       8.568       9.523\n",
      "C(education)[T.4]             15.4853      1.082     14.308      0.000      13.364      17.607\n",
      "company_id                     2.0240      0.059     34.334      0.000       1.908       2.140\n",
      "industry_field                 0.0241      0.003      9.151      0.000       0.019       0.029\n",
      "describe_cut_                  0.5598      0.034     16.315      0.000       0.493       0.627\n",
      "==============================================================================\n",
      "Omnibus:                   156023.360   Durbin-Watson:                   1.321\n",
      "Prob(Omnibus):                  0.000   Jarque-Bera (JB):        177852207.119\n",
      "Skew:                           5.579   Prob(JB):                         0.00\n",
      "Kurtosis:                     183.549   Cond. No.                     2.77e+15\n",
      "==============================================================================\n",
      "\n",
      "Notes:\n",
      "[1] Standard Errors assume that the covariance matrix of the errors is correctly specified.\n",
      "[2] The smallest eigenvalue is 1.03e-23. This might indicate that there are\n",
      "strong multicollinearity problems or that the design matrix is singular.\n"
     ]
    }
   ],
   "source": [
    "# ['company_size', 'job_nature', 'company_id', 'industry_field',\n",
    "#                                                           'position_name_type', 'city', 'education', 'company_logo',\n",
    "#                                                           'work_year_max', 'work_year_min', 'salary_max', 'salary_min']\n",
    "import statsmodels.api as sm\n",
    "import pandas as pd\n",
    "\n",
    "mod = sm.formula.ols(\"salary_mid ~ C(company_size) + C(job_nature) + company_id  + industry_field + \"\n",
    "                     \"C(position_name_type) + C(city) + C(education) + C(company_logo) + describe_cut_ \", data = data)\n",
    "res = mod.fit()\n",
    "print(res.summary())"
   ],
   "metadata": {
    "collapsed": false,
    "pycharm": {
     "name": "#%%\n"
    }
   }
  },
  {
   "cell_type": "code",
   "execution_count": 161,
   "outputs": [
    {
     "data": {
      "text/plain": "<AxesSubplot:>"
     },
     "execution_count": 161,
     "metadata": {},
     "output_type": "execute_result"
    },
    {
     "data": {
      "text/plain": "<Figure size 432x288 with 1 Axes>",
      "image/png": "[encoded data removed]"
     },
     "metadata": {
      "needs_background": "light"
     },
     "output_type": "display_data"
    }
   ],
   "source": [
    "sns.lineplot(x=[x / 100 for x in range(100, 0, -1)], y=ls3)"
   ],
   "metadata": {
    "collapsed": false,
    "pycharm": {
     "name": "#%%\n"
    }
   }
  },
  {
   "cell_type": "code",
   "execution_count": 162,
   "outputs": [
    {
     "data": {
      "text/plain": "0.8046563205444301"
     },
     "execution_count": 162,
     "metadata": {},
     "output_type": "execute_result"
    }
   ],
   "source": [
    "max(ls3)\n",
    "\n"
   ],
   "metadata": {
    "collapsed": false,
    "pycharm": {
     "name": "#%%\n"
    }
   }
  },
  {
   "cell_type": "code",
   "execution_count": null,
   "outputs": [],
   "source": [
    "\n"
   ],
   "metadata": {
    "collapsed": false,
    "pycharm": {
     "name": "#%%\n"
    }
   }
  }
 ],
 "metadata": {
  "kernelspec": {
   "display_name": "Python 3",
   "language": "python",
   "name": "python3"
  },
  "language_info": {
   "codemirror_mode": {
    "name": "ipython",
    "version": 2
   },
   "file_extension": ".py",
   "mimetype": "text/x-python",
   "name": "python",
   "nbconvert_exporter": "python",
   "pygments_lexer": "ipython2",
   "version": "2.7.6"
  }
 },
 "nbformat": 4,
 "nbformat_minor": 0
}